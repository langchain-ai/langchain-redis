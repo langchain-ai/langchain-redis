{
 "cells": [
  {
   "cell_type": "markdown",
   "metadata": {},
   "source": [
    "# Redis Chat Message History\n",
    "\n",
    "This notebook demonstrates how to use the `RedisChatMessageHistory` class from the `langchain-redis` package to efficiently store, fetch, and manage chat message history in [Redis](https://redis.io)."
   ]
  },
  {
   "cell_type": "markdown",
   "metadata": {},
   "source": [
    "## Setup\n",
    "\n",
    "First, we need to install the required dependencies and ensure we have a Redis instance running."
   ]
  },
  {
   "cell_type": "code",
   "execution_count": null,
   "metadata": {},
   "outputs": [],
   "source": [
    "%pip install -qU langchain-redis langchain-openai"
   ]
  },
  {
   "cell_type": "markdown",
   "metadata": {},
   "source": [
    "Make sure you have a [Redis](https://redis.io) server running. You can start one using Docker with the following command:\n",
    "\n",
    "```\n",
    "docker run -d -p 6379:6379 redis/redis-stack-server:latest\n",
    "```\n",
    "\n",
    "Or install and run Redis locally according to the instructions for your operating system."
   ]
  },
  {
   "cell_type": "code",
   "execution_count": 1,
   "metadata": {},
   "outputs": [
    {
     "name": "stdout",
     "output_type": "stream",
     "text": [
      "Connecting to Redis at: redis://localhost:6379\n"
     ]
    }
   ],
   "source": [
    "# ruff: noqa: T201\n",
    "import os\n",
    "\n",
    "# Use the environment variable if set, otherwise default to localhost\n",
    "REDIS_URL = os.getenv(\"REDIS_URL\", \"redis://localhost:6379\")\n",
    "print(f\"Connecting to Redis at: {REDIS_URL}\")"
   ]
  },
  {
   "cell_type": "markdown",
   "metadata": {},
   "source": [
    "## Importing Required Libraries"
   ]
  },
  {
   "cell_type": "code",
   "execution_count": 2,
   "metadata": {},
   "outputs": [],
   "source": [
    "from langchain_core.chat_history import BaseChatMessageHistory\n",
    "from langchain_core.prompts import ChatPromptTemplate, MessagesPlaceholder\n",
    "from langchain_core.runnables.history import RunnableWithMessageHistory\n",
    "from langchain_openai import ChatOpenAI\n",
    "\n",
    "from langchain_redis import RedisChatMessageHistory\n",
    "\n",
    "import logging\n",
    "\n",
    "logging.getLogger('redisvl').setLevel(logging.WARNING)"
   ]
  },
  {
   "cell_type": "markdown",
   "metadata": {},
   "source": [
    "## Basic Usage of RedisChatMessageHistory"
   ]
  },
  {
   "cell_type": "code",
   "execution_count": 3,
   "metadata": {},
   "outputs": [
    {
     "name": "stdout",
     "output_type": "stream",
     "text": [
      "Chat History:\n",
      "HumanMessage: Hello, AI assistant!\n",
      "AIMessage: Hello! How can I assist you today?\n",
      "HumanMessage: How are you today?\n",
      "AIMessage: I am doing well today. How can I help?\n"
     ]
    }
   ],
   "source": [
    "# Initialize RedisChatMessageHistory\n",
    "history = RedisChatMessageHistory(session_id=\"user_123\", redis_url=REDIS_URL)\n",
    "\n",
    "# Add messages to the history\n",
    "history.add_user_message(\"Hello, AI assistant!\")\n",
    "history.add_ai_message(\"Hello! How can I assist you today?\")\n",
    "history.add_user_message(\"How are you today?\")\n",
    "history.add_ai_message(\"I am doing well today. How can I help?\")\n",
    "\n",
    "# Retrieve messages\n",
    "print(\"Chat History:\")\n",
    "for message in history.messages:\n",
    "    print(f\"{type(message).__name__}: {message.content}\")"
   ]
  },
  {
   "cell_type": "code",
   "execution_count": 4,
   "metadata": {},
   "outputs": [
    {
     "data": {
      "text/plain": [
       "IndexSchema(index=IndexInfo(name='idx:chat_history', prefix='chat:', key_separator=':', storage_type=<StorageType.JSON: 'json'>), fields={'session_id': TagField(name='session_id', type=<FieldTypes.TAG: 'tag'>, path='$.session_id', attrs=TagFieldAttributes(sortable=False, separator=',', case_sensitive=False, withsuffixtrie=False)), 'content': TextField(name='content', type=<FieldTypes.TEXT: 'text'>, path='$.data.content', attrs=TextFieldAttributes(sortable=False, weight=1, no_stem=False, withsuffixtrie=False, phonetic_matcher=None)), 'type': TagField(name='type', type=<FieldTypes.TAG: 'tag'>, path='$.type', attrs=TagFieldAttributes(sortable=False, separator=',', case_sensitive=False, withsuffixtrie=False)), 'timestamp': NumericField(name='timestamp', type=<FieldTypes.NUMERIC: 'numeric'>, path='$.timestamp', attrs=NumericFieldAttributes(sortable=False))}, version='0.1.0')"
      ]
     },
     "execution_count": 4,
     "metadata": {},
     "output_type": "execute_result"
    }
   ],
   "source": [
    "# Take a look at the chat history index schema\n",
    "history.index.schema"
   ]
  },
  {
   "cell_type": "code",
   "execution_count": 5,
   "metadata": {},
   "outputs": [],
   "source": [
    "history.clear()"
   ]
  },
  {
   "cell_type": "markdown",
   "metadata": {},
   "source": [
    "## Using RedisChatMessageHistory with Language Models"
   ]
  },
  {
   "cell_type": "markdown",
   "metadata": {},
   "source": [
    "### Set OpenAI API key"
   ]
  },
  {
   "cell_type": "code",
   "execution_count": 6,
   "metadata": {},
   "outputs": [],
   "source": [
    "from getpass import getpass\n",
    "\n",
    "os.environ[\"OPENAI_API_KEY\"] = os.getenv(\"OPENAI_API_KEY\") or getpass(\"Please enter your OpenAI API key: \")"
   ]
  },
  {
   "cell_type": "code",
   "execution_count": 7,
   "metadata": {},
   "outputs": [],
   "source": [
    "# Create a prompt template\n",
    "prompt = ChatPromptTemplate.from_messages(\n",
    "    [\n",
    "        (\"system\", \"You are a helpful AI assistant.\"),\n",
    "        MessagesPlaceholder(variable_name=\"history\"),\n",
    "        (\"human\", \"{input}\"),\n",
    "    ]\n",
    ")\n",
    "\n",
    "# Initialize the language model\n",
    "llm = ChatOpenAI(model=\"gpt-4o-mini\")\n",
    "\n",
    "# Create the conversational chain\n",
    "chain = prompt | llm\n",
    "\n",
    "\n",
    "# Function to get or create a RedisChatMessageHistory instance\n",
    "def get_redis_history(session_id: str) -> BaseChatMessageHistory:\n",
    "    return RedisChatMessageHistory(session_id, redis_url=REDIS_URL)\n",
    "\n",
    "\n",
    "# Create a runnable with message history\n",
    "chain_with_history = RunnableWithMessageHistory(\n",
    "    chain, get_redis_history, input_messages_key=\"input\", history_messages_key=\"history\"\n",
    ")"
   ]
  },
  {
   "cell_type": "code",
   "execution_count": 12,
   "metadata": {},
   "outputs": [
    {
     "name": "stdout",
     "output_type": "stream",
     "text": [
      "09:01:22 httpx INFO   HTTP Request: POST https://api.openai.com/v1/chat/completions \"HTTP/1.1 200 OK\"\n",
      "AI Response 1: Hi Tyler! How can I assist you today?\n"
     ]
    }
   ],
   "source": [
    "# Use the chain in a conversation\n",
    "response1 = chain_with_history.invoke(\n",
    "    {\"input\": \"Hi, my name is Tyler.\"},\n",
    "    config={\"configurable\": {\"session_id\": \"tyler_123\"}},\n",
    ")\n",
    "print(\"AI Response 1:\", response1.content)"
   ]
  },
  {
   "cell_type": "code",
   "execution_count": 13,
   "metadata": {},
   "outputs": [
    {
     "name": "stdout",
     "output_type": "stream",
     "text": [
      "09:01:23 httpx INFO   HTTP Request: POST https://api.openai.com/v1/chat/completions \"HTTP/1.1 200 OK\"\n",
      "AI Response 2: Your name is Tyler. How can I help you today, Tyler?\n"
     ]
    }
   ],
   "source": [
    "response2 = chain_with_history.invoke(\n",
    "    {\"input\": \"What's my name?\"}, config={\"configurable\": {\"session_id\": \"tyler_123\"}}\n",
    ")\n",
    "print(\"AI Response 2:\", response2.content)"
   ]
  },
  {
   "cell_type": "code",
   "execution_count": 14,
   "metadata": {},
   "outputs": [
    {
     "data": {
      "text/plain": [
       "[HumanMessage(content='Hi, my name is Tyler.', additional_kwargs={}, response_metadata={}),\n",
       " AIMessage(content='Hi Tyler! How can I assist you today?', additional_kwargs={'refusal': None}, response_metadata={}),\n",
       " HumanMessage(content=\"What's my name?\", additional_kwargs={}, response_metadata={}),\n",
       " AIMessage(content='Your name is Tyler. How can I help you today, Tyler?', additional_kwargs={'refusal': None}, response_metadata={})]"
      ]
     },
     "execution_count": 14,
     "metadata": {},
     "output_type": "execute_result"
    }
   ],
   "source": [
    "# Check the messages\n",
    "history = RedisChatMessageHistory(\"tyler_123\", redis_url=REDIS_URL)\n",
    "history.messages"
   ]
  },
  {
   "cell_type": "code",
   "execution_count": 15,
   "metadata": {},
   "outputs": [],
   "source": [
    "# Clear history for the session\n",
    "history.clear()"
   ]
  },
  {
   "cell_type": "markdown",
   "metadata": {},
   "source": [
    "## Advanced Features"
   ]
  },
  {
   "cell_type": "markdown",
   "metadata": {},
   "source": [
    "### Custom Redis Configuration"
   ]
  },
  {
   "cell_type": "code",
   "execution_count": 16,
   "metadata": {},
   "outputs": [
    {
     "name": "stdout",
     "output_type": "stream",
     "text": [
      "Custom History: [HumanMessage(content='This is a message with custom configuration.', additional_kwargs={}, response_metadata={}), HumanMessage(content='This is a message with custom configuration.', additional_kwargs={}, response_metadata={})]\n"
     ]
    }
   ],
   "source": [
    "# Initialize with custom Redis configuration\n",
    "custom_history = RedisChatMessageHistory(\n",
    "    session_id=\"user_456\",\n",
    "    redis_url=REDIS_URL,\n",
    "    key_prefix=\"my_chat:\",\n",
    "    ttl=3600,  # Set TTL to 1 hour\n",
    "    index_name=\"chat_idx\",\n",
    ")\n",
    "\n",
    "custom_history.add_user_message(\"This is a message with custom configuration.\")\n",
    "print(\"Custom History:\", custom_history.messages)"
   ]
  },
  {
   "cell_type": "markdown",
   "metadata": {},
   "source": [
    "### Searching Messages"
   ]
  },
  {
   "cell_type": "code",
   "execution_count": 17,
   "metadata": {},
   "outputs": [
    {
     "name": "stdout",
     "output_type": "stream",
     "text": [
      "Search Results:\n",
      "human: Tell me about artificial intelligence....\n",
      "ai: Artificial Intelligence (AI) is a branch of comput...\n"
     ]
    }
   ],
   "source": [
    "# Add more messages\n",
    "history.add_user_message(\"Tell me about artificial intelligence.\")\n",
    "history.add_ai_message(\n",
    "    \"Artificial Intelligence (AI) is a branch of computer science...\"\n",
    ")\n",
    "\n",
    "# Search for messages containing a specific term\n",
    "search_results = history.search_messages(\"artificial intelligence\")\n",
    "print(\"Search Results:\")\n",
    "for result in search_results:\n",
    "    print(f\"{result['type']}: {result['content'][:50]}...\")"
   ]
  },
  {
   "cell_type": "code",
   "execution_count": 18,
   "metadata": {},
   "outputs": [
    {
     "name": "stdout",
     "output_type": "stream",
     "text": [
      "Messages after clearing: []\n"
     ]
    }
   ],
   "source": [
    "# Clear the chat history (only current session)\n",
    "history.clear()\n",
    "\n",
    "print(\"Messages after clearing:\", history.messages)"
   ]
  },
  {
   "cell_type": "code",
   "execution_count": 19,
   "metadata": {},
   "outputs": [],
   "source": [
    "# Clear AND delete the chat history index completely (all sessions affected)\n",
    "history.delete()"
   ]
  },
  {
   "cell_type": "markdown",
   "metadata": {},
   "source": [
    "## Conclusion\n",
    "\n",
    "This notebook demonstrated the key features of `RedisChatMessageHistory` from the langchain-redis package. It showed how to initialize and use the chat history, integrate it with language models, and utilize advanced features like custom configurations and message searching. Redis provides a fast and scalable solution for managing chat history in AI applications."
   ]
  }
 ],
 "metadata": {
  "kernelspec": {
   "display_name": ".venv",
   "language": "python",
   "name": "python3"
  },
  "language_info": {
   "codemirror_mode": {
    "name": "ipython",
    "version": 3
   },
   "file_extension": ".py",
   "mimetype": "text/x-python",
   "name": "python",
   "nbconvert_exporter": "python",
   "pygments_lexer": "ipython3",
   "version": "3.13.2"
  }
 },
 "nbformat": 4,
 "nbformat_minor": 4
}
